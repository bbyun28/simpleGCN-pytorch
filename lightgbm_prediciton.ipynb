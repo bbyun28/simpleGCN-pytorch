{
 "cells": [
  {
   "cell_type": "code",
   "execution_count": 1,
   "metadata": {},
   "outputs": [],
   "source": [
    "from rdkit import Chem\n",
    "from rdkit.Chem import Descriptors\n",
    "from rdkit.ML.Descriptors import MoleculeDescriptors\n",
    "\n",
    "import lightgbm as lgb\n",
    "import numpy as np\n",
    "import pandas as pd\n",
    "from sklearn.metrics import mean_squared_error"
   ]
  },
  {
   "cell_type": "code",
   "execution_count": 2,
   "metadata": {},
   "outputs": [],
   "source": [
    "train = [ mol for mol in Chem.SDMolSupplier('./datasets/solubility.train.sdf')]\n",
    "test = [ mol for mol in Chem.SDMolSupplier('./datasets/solubility.test.sdf')]"
   ]
  },
  {
   "cell_type": "code",
   "execution_count": 3,
   "metadata": {},
   "outputs": [],
   "source": [
    "descs = [desc_name[0] for desc_name in Descriptors._descList]\n",
    "desc_calc = MoleculeDescriptors.MolecularDescriptorCalculator(descs)"
   ]
  },
  {
   "cell_type": "code",
   "execution_count": 4,
   "metadata": {},
   "outputs": [],
   "source": [
    "X = [desc_calc.CalcDescriptors(mol) for mol in train]\n",
    "y = [mol.GetPropsAsDict()[\"SOL\"] for mol in train]\n",
    "test_X = [desc_calc.CalcDescriptors(mol) for mol in test]\n",
    "test_y = [mol.GetPropsAsDict()[\"SOL\"] for mol in test]"
   ]
  },
  {
   "cell_type": "code",
   "execution_count": 5,
   "metadata": {},
   "outputs": [],
   "source": [
    "from sklearn.model_selection import train_test_split\n",
    "(train_x, valid_x,\n",
    " train_y, valid_y) = train_test_split(\n",
    "    X, y, test_size=0.2, random_state=0,\n",
    ")"
   ]
  },
  {
   "cell_type": "code",
   "execution_count": 6,
   "metadata": {},
   "outputs": [],
   "source": [
    "param = {'num_leaves': 31,\n",
    "     'min_data_in_leaf': 30, \n",
    "     'objective':'regression',\n",
    "     'max_depth': -1,\n",
    "     'learning_rate': 0.01,\n",
    "     \"min_child_samples\": 20,\n",
    "     \"boosting\": \"gbdt\",\n",
    "     \"feature_fraction\": 0.9,\n",
    "     \"bagging_freq\": 1,\n",
    "     \"bagging_fraction\": 0.9 ,\n",
    "     \"bagging_seed\": 11,\n",
    "     \"metric\": 'rmse',\n",
    "     \"lambda_l1\": 0.1,\n",
    "     \"verbosity\": -1,\n",
    "     \"nthread\": 4,\n",
    "     \"random_state\": 0}"
   ]
  },
  {
   "cell_type": "code",
   "execution_count": 7,
   "metadata": {},
   "outputs": [],
   "source": [
    "lgb_train = lgb.Dataset(train_x,\n",
    "                        label=train_y,\n",
    "                        free_raw_data=False)\n",
    "lgb_test = lgb.Dataset(valid_x,\n",
    "                       label=valid_y,\n",
    "                       free_raw_data=False)"
   ]
  },
  {
   "cell_type": "code",
   "execution_count": 8,
   "metadata": {},
   "outputs": [
    {
     "name": "stdout",
     "output_type": "stream",
     "text": [
      "Training until validation scores don't improve for 300 rounds.\n",
      "[100]\ttrain's rmse: 0.954632\ttest's rmse: 1.02135\n",
      "[200]\ttrain's rmse: 0.592873\ttest's rmse: 0.729525\n",
      "[300]\ttrain's rmse: 0.456173\ttest's rmse: 0.643088\n",
      "[400]\ttrain's rmse: 0.387969\ttest's rmse: 0.616696\n",
      "[500]\ttrain's rmse: 0.344624\ttest's rmse: 0.60439\n",
      "[600]\ttrain's rmse: 0.312954\ttest's rmse: 0.599289\n",
      "[700]\ttrain's rmse: 0.286946\ttest's rmse: 0.595187\n",
      "[800]\ttrain's rmse: 0.264333\ttest's rmse: 0.593469\n",
      "[900]\ttrain's rmse: 0.244957\ttest's rmse: 0.593028\n",
      "[1000]\ttrain's rmse: 0.228082\ttest's rmse: 0.591473\n",
      "[1100]\ttrain's rmse: 0.213238\ttest's rmse: 0.591483\n",
      "[1200]\ttrain's rmse: 0.199845\ttest's rmse: 0.590999\n",
      "[1300]\ttrain's rmse: 0.187987\ttest's rmse: 0.590624\n",
      "[1400]\ttrain's rmse: 0.177225\ttest's rmse: 0.590462\n",
      "[1500]\ttrain's rmse: 0.167461\ttest's rmse: 0.590748\n",
      "[1600]\ttrain's rmse: 0.158487\ttest's rmse: 0.591348\n",
      "[1700]\ttrain's rmse: 0.150172\ttest's rmse: 0.59091\n",
      "Early stopping, best iteration is:\n",
      "[1404]\ttrain's rmse: 0.176853\ttest's rmse: 0.590382\n"
     ]
    }
   ],
   "source": [
    "reg = lgb.train(\n",
    "                param,\n",
    "                lgb_train,\n",
    "                valid_sets=[lgb_train, lgb_test],\n",
    "                valid_names=['train', 'test'],\n",
    "                num_boost_round=10000,\n",
    "                early_stopping_rounds= 300,\n",
    "                verbose_eval=100\n",
    "                )"
   ]
  },
  {
   "cell_type": "code",
   "execution_count": 9,
   "metadata": {},
   "outputs": [
    {
     "name": "stdout",
     "output_type": "stream",
     "text": [
      "train_RMSE: 0.1769\n",
      "test_RMSE : 0.5891\n"
     ]
    }
   ],
   "source": [
    "output = reg.predict(train_x, num_iteration=reg.best_iteration)\n",
    "print(\"train_RMSE: {:.4f}\".format(mean_squared_error(output,train_y)**0.5))\n",
    "output = reg.predict(test_X, num_iteration=reg.best_iteration)\n",
    "print(\"test_RMSE : {:.4f}\".format(mean_squared_error(output,test_y)**0.5))"
   ]
  },
  {
   "cell_type": "code",
   "execution_count": 11,
   "metadata": {},
   "outputs": [
    {
     "data": {
      "image/png": "[encoded data removed]",
      "text/plain": [
       "<Figure size 432x288 with 1 Axes>"
      ]
     },
     "metadata": {},
     "output_type": "display_data"
    }
   ],
   "source": [
    "import matplotlib.pyplot as plt\n",
    "plt.figure()\n",
    "plt.scatter(train_y, reg.predict(train_x, num_iteration=reg.best_iteration), label = 'Train', c = 'blue')\n",
    "plt.title('lightgbm Predictor')\n",
    "plt.xlabel('Measured Solubility')\n",
    "plt.ylabel('Predicted Solubility')\n",
    "plt.scatter(test_y, reg.predict(test_X, num_iteration=reg.best_iteration), c = 'lightgreen', label = 'Test', alpha = 0.8)\n",
    "plt.legend(loc = 4)\n",
    "plt.show()"
   ]
  }
 ],
 "metadata": {
  "kernelspec": {
   "display_name": "Python 3",
   "language": "python",
   "name": "python3"
  },
  "language_info": {
   "codemirror_mode": {
    "name": "ipython",
    "version": 3
   },
   "file_extension": ".py",
   "mimetype": "text/x-python",
   "name": "python",
   "nbconvert_exporter": "python",
   "pygments_lexer": "ipython3",
   "version": "3.6.5"
  }
 },
 "nbformat": 4,
 "nbformat_minor": 2
}
