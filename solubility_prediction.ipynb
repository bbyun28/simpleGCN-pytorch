{
 "cells": [
  {
   "cell_type": "code",
   "execution_count": 279,
   "metadata": {},
   "outputs": [],
   "source": [
    "from rdkit import Chem\n",
    "from rdkit.Chem import Descriptors\n",
    "from rdkit.Chem.Draw import IPythonConsole\n",
    "from rdkit.ML.Descriptors import MoleculeDescriptors\n",
    "from GCN import GCN\n",
    "import numpy as np\n",
    "from sklearn.metrics import mean_squared_error\n",
    "\n",
    "import torch\n",
    "import torch.nn as nn\n",
    "import torch.optim as optim"
   ]
  },
  {
   "cell_type": "code",
   "execution_count": 280,
   "metadata": {},
   "outputs": [],
   "source": [
    "# data loading\n",
    "train_y = torch.zeros(1025)\n",
    "train_x = []\n",
    "train_adj_x = torch.zeros((1025,50,50))\n",
    "a = 0\n",
    "c = 0\n",
    "elements = set()\n",
    "with open(\"./datasets/solubility.train.sdf\") as f:\n",
    "    f.readline()\n",
    "    f.readline()\n",
    "    f.readline()\n",
    "    b = f.readline().split()\n",
    "    x = int(b[0])\n",
    "    y = int(b[1])\n",
    "    tmp = []\n",
    "    for i in range(x):\n",
    "        b = f.readline().split()\n",
    "        tmp.append(b[:4])\n",
    "        elements.add(b[3])\n",
    "    train_x.append(tmp)\n",
    "    for i in range(y):\n",
    "        b = list(map(int,f.readline().split()))\n",
    "        n,m,k,_ = b\n",
    "        n-=1;m-=1\n",
    "        train_adj_x[c][n][m] = k\n",
    "        train_adj_x[c][m][n] = k\n",
    "    c+=1\n",
    "    while True:\n",
    "        s_line = f.readline()\n",
    "        if s_line.find(\"$$$$\") != -1:\n",
    "            f.readline()\n",
    "            f.readline()\n",
    "            f.readline()\n",
    "            b = f.readline().split()\n",
    "            if b == []:\n",
    "                break\n",
    "            x = int(b[0])\n",
    "            y = int(b[1])\n",
    "            tmp = []\n",
    "            for i in range(x):\n",
    "                b = f.readline().split()\n",
    "                tmp.append(b[:4])\n",
    "                elements.add(b[3])\n",
    "            train_x.append(tmp)\n",
    "            for i in range(y):\n",
    "                b = list(map(int,f.readline().split()))\n",
    "                n,m,k,_ = b\n",
    "                n-=1;m-=1\n",
    "                train_adj_x[c][n][m] = k\n",
    "                train_adj_x[c][m][n] = k\n",
    "            c+=1\n",
    "        if s_line.find(\">  <SOL>\") != -1:\n",
    "            b = f.readline()\n",
    "            train_y[a] = float(b)\n",
    "            a += 1\n",
    "            \n",
    "        if not s_line:\n",
    "            break\n",
    "            \n",
    "test_y = torch.zeros(257)\n",
    "test_x = []\n",
    "test_adj_x = torch.zeros((257,50,50))\n",
    "a = 0\n",
    "c = 0\n",
    "with open(\"./datasets/solubility.test.sdf\") as f:\n",
    "    f.readline()\n",
    "    f.readline()\n",
    "    f.readline()\n",
    "    b = f.readline().split()\n",
    "    x = int(b[0])\n",
    "    y = int(b[1])\n",
    "    tmp = []\n",
    "    for i in range(x):\n",
    "        b = f.readline().split()\n",
    "        tmp.append(b[:4])\n",
    "        elements.add(b[3])\n",
    "    test_x.append(tmp)\n",
    "    for i in range(y):\n",
    "        b = list(map(int,f.readline().split()))\n",
    "        n,m,k,_ = b\n",
    "        n-=1;m-=1\n",
    "        test_adj_x[c][n][m] = k\n",
    "        test_adj_x[c][m][n] = k\n",
    "    c+=1\n",
    "    while True:\n",
    "        s_line = f.readline()\n",
    "        if s_line.find(\"$$$$\") != -1:\n",
    "            f.readline()\n",
    "            f.readline()\n",
    "            f.readline()\n",
    "            b = f.readline().split()\n",
    "            if b == []:\n",
    "                break\n",
    "            x = int(b[0])\n",
    "            y = int(b[1])\n",
    "            tmp = []\n",
    "            for i in range(x):\n",
    "                b = f.readline().split()\n",
    "                tmp.append(b[:4])\n",
    "                elements.add(b[3])\n",
    "            test_x.append(tmp)\n",
    "            for i in range(y):\n",
    "                b = list(map(int,f.readline().split()))\n",
    "                n,m,k,_ = b\n",
    "                n-=1;m-=1\n",
    "                test_adj_x[c][n][m] = k\n",
    "                test_adj_x[c][m][n] = k\n",
    "            c+=1\n",
    "        if s_line.find(\"> <SOL>\") != -1:\n",
    "            b = f.readline()\n",
    "            test_y[a] = float(b)\n",
    "            a += 1\n",
    "            \n",
    "            \n",
    "        if not s_line:\n",
    "            break"
   ]
  },
  {
   "cell_type": "code",
   "execution_count": 281,
   "metadata": {},
   "outputs": [
    {
     "name": "stdout",
     "output_type": "stream",
     "text": [
      "11\n",
      "['Sn', 'Cl', 'I', 'N', 'H', 'C', 'P', 'S', 'Br', 'O', 'F']\n"
     ]
    }
   ],
   "source": [
    "elements = list(elements)\n",
    "elen = len(elements)\n",
    "def make_one_hot(char):\n",
    "    one = np.zeros(elen)\n",
    "    one[elements.index(char)] = 1\n",
    "    return one\n",
    "print(elen)\n",
    "print(elements)"
   ]
  },
  {
   "cell_type": "code",
   "execution_count": 282,
   "metadata": {},
   "outputs": [],
   "source": [
    "descs = [desc_name[0] for desc_name in Descriptors._descList]\n",
    "desc_calc = MoleculeDescriptors.MolecularDescriptorCalculator(descs)"
   ]
  },
  {
   "cell_type": "code",
   "execution_count": 283,
   "metadata": {},
   "outputs": [],
   "source": [
    "train_x2 = torch.zeros(1025,50,17)\n",
    "for i in range(1025):\n",
    "    a = train_x[i]\n",
    "    for j in range(len(a)):\n",
    "        for k in range(3):\n",
    "            train_x2[i][j][k] = float(a[j][k])\n",
    "        Mol = Chem.MolFromSmiles(\"[\"+a[j][3]+\"]\")\n",
    "        train_x2[i][j][14] = Descriptors.MolWt(Mol)\n",
    "        train_x2[i][j][15] = Descriptors.NOCount(Mol)\n",
    "#        train_x2[i][j][16] = Descriptors.MolMR(Mol)\n",
    "        train_x2[i][j][3+elements.index(a[j][3])] = 1\n",
    "train_x = train_x2"
   ]
  },
  {
   "cell_type": "code",
   "execution_count": 284,
   "metadata": {},
   "outputs": [],
   "source": [
    "test_x2 = torch.zeros(257,50,17)\n",
    "for i in range(257):\n",
    "    a = test_x[i]\n",
    "    for j in range(len(a)):\n",
    "        for k in range(3):\n",
    "            test_x2[i][j][k] = float(a[j][k])\n",
    "        Mol = Chem.MolFromSmiles(\"[\"+a[j][3]+\"]\")\n",
    "        test_x2[i][j][14] = Descriptors.MolWt(Mol)\n",
    "        test_x2[i][j][15] = Descriptors.NOCount(Mol)\n",
    "#        test_x2[i][j][16] = Descriptors.MolMR(Mol)\n",
    "        test_x2[i][j][3+elements.index(a[j][3])] = 1\n",
    "test_x = test_x2"
   ]
  },
  {
   "cell_type": "code",
   "execution_count": 285,
   "metadata": {},
   "outputs": [],
   "source": [
    "from sklearn.preprocessing import MinMaxScaler\n",
    "sc = MinMaxScaler()\n",
    "for i in range(train_x.shape[2]):\n",
    "    train_x[:,:,i] = torch.from_numpy(sc.fit_transform(train_x[:,:,i]))\n",
    "    test_x[:,:,i] = torch.from_numpy(sc.transform(test_x[:,:,i]))"
   ]
  },
  {
   "cell_type": "code",
   "execution_count": 286,
   "metadata": {},
   "outputs": [],
   "source": [
    "model = GCN(nfeat=train_x.shape[2],\n",
    "            nnode = 50,\n",
    "           nhid = 384,\n",
    "           dropout=0.2)\n",
    "optimizer = optim.Adam(model.parameters(),lr=(0.005))"
   ]
  },
  {
   "cell_type": "code",
   "execution_count": 287,
   "metadata": {},
   "outputs": [],
   "source": [
    "from torch.utils.data import Dataset\n",
    "class MyDataset(Dataset):\n",
    "    \n",
    "    def __init__(self,adj,features,ans):\n",
    "        self.adj = adj\n",
    "        self.features = features\n",
    "        self.ans = ans\n",
    "    \n",
    "    def __len__(self):\n",
    "        return len(self.adj)\n",
    "    \n",
    "    def __getitem__(self,idx):\n",
    "        adj = self.adj[idx]\n",
    "        feats = self.features[idx]\n",
    "        ans = self.ans[idx]\n",
    "        return adj,feats,ans"
   ]
  },
  {
   "cell_type": "code",
   "execution_count": 288,
   "metadata": {},
   "outputs": [],
   "source": [
    "train_data= MyDataset(train_adj_x,train_x,train_y)\n",
    "test_data= MyDataset(test_adj_x,test_x,test_y)"
   ]
  },
  {
   "cell_type": "code",
   "execution_count": 289,
   "metadata": {},
   "outputs": [],
   "source": [
    "from torch.utils.data.sampler import SubsetRandomSampler\n",
    "dataset_size = len(train_data)\n",
    "indices = list(range(dataset_size))\n",
    "split = int(np.floor(0.2 * dataset_size))\n",
    "np.random.seed(9)\n",
    "np.random.shuffle(indices)\n",
    "train_indices, val_indices = indices[split:], indices[:split]\n",
    "\n",
    "# Creating PT data samplers and loaders:\n",
    "train_sampler = SubsetRandomSampler(train_indices)\n",
    "valid_sampler = SubsetRandomSampler(val_indices)"
   ]
  },
  {
   "cell_type": "code",
   "execution_count": 290,
   "metadata": {},
   "outputs": [],
   "source": [
    "train_loader = torch.utils.data.DataLoader(train_data,batch_size=64,sampler=train_sampler)\n",
    "valid_loader = torch.utils.data.DataLoader(train_data,sampler=valid_sampler,batch_size=1000)\n",
    "test_loader = torch.utils.data.DataLoader(test_data)"
   ]
  },
  {
   "cell_type": "code",
   "execution_count": 291,
   "metadata": {
    "scrolled": true
   },
   "outputs": [
    {
     "name": "stdout",
     "output_type": "stream",
     "text": [
      "Epoch: 0001 loss_train: 3.4647\n",
      "3.3299632838519044\n",
      "Epoch: 0002 loss_train: 3.4147\n",
      "3.278971725802661\n",
      "Epoch: 0003 loss_train: 3.3538\n",
      "3.2149211739803554\n",
      "Epoch: 0004 loss_train: 2.6088\n",
      "2.4566046461181137\n",
      "Epoch: 0005 loss_train: 1.7502\n",
      "1.6587759226057708\n",
      "Epoch: 0006 loss_train: 1.6436\n",
      "1.5840311854885756\n",
      "Epoch: 0007 loss_train: 1.5086\n",
      "1.357489758447614\n",
      "Epoch: 0008 loss_train: 1.2194\n",
      "1.043343694491223\n",
      "Epoch: 0009 loss_train: 1.1257\n",
      "0.9479837428803523\n",
      "Epoch: 0010 loss_train: 1.0852\n",
      "0.9485376999541204\n",
      "Epoch: 0011 loss_train: 1.0812\n",
      "0.8985447695176093\n",
      "Epoch: 0012 loss_train: 1.1196\n",
      "0.9859179559816953\n",
      "Epoch: 0013 loss_train: 1.0208\n",
      "0.893703160692499\n",
      "Epoch: 0014 loss_train: 0.9937\n",
      "0.8762331855673476\n",
      "Epoch: 0015 loss_train: 0.9779\n",
      "0.9007937507390604\n",
      "Epoch: 0016 loss_train: 0.9812\n",
      "0.9297699450953512\n",
      "Epoch: 0017 loss_train: 1.2300\n",
      "1.1762609675480866\n",
      "Epoch: 0018 loss_train: 0.9830\n",
      "0.9007618236183949\n",
      "Epoch: 0019 loss_train: 1.0167\n",
      "0.9143604868782016\n",
      "Epoch: 0020 loss_train: 0.9465\n",
      "0.9025354883502523\n",
      "Epoch: 0021 loss_train: 0.9833\n",
      "0.9262481349148937\n",
      "Epoch: 0022 loss_train: 1.0163\n",
      "0.9593731001049204\n",
      "Epoch: 0023 loss_train: 0.9263\n",
      "0.8930036669802158\n",
      "Epoch: 0024 loss_train: 0.9280\n",
      "0.8963020488357663\n",
      "Epoch: 0025 loss_train: 1.0124\n",
      "0.9934143831215979\n",
      "Epoch: 0026 loss_train: 0.9824\n",
      "0.9588395143322174\n",
      "Epoch: 0027 loss_train: 0.8595\n",
      "0.8468838173945674\n",
      "Epoch: 0028 loss_train: 0.8863\n",
      "0.8580904289777876\n",
      "Epoch: 0029 loss_train: 0.8911\n",
      "0.8566484373530494\n",
      "Epoch: 0030 loss_train: 0.8757\n",
      "0.8636915172757039\n",
      "Epoch: 0031 loss_train: 0.8995\n",
      "0.9203786181806584\n",
      "Epoch: 0032 loss_train: 0.9135\n",
      "0.9282258348244992\n",
      "Epoch: 0033 loss_train: 0.9079\n",
      "0.8950156020823806\n",
      "Epoch: 0034 loss_train: 0.8503\n",
      "0.8418925644728035\n",
      "Epoch: 0035 loss_train: 0.9693\n",
      "0.9416918182952564\n",
      "Epoch: 0036 loss_train: 0.8403\n",
      "0.8648916215750794\n",
      "Epoch: 0037 loss_train: 0.8626\n",
      "0.8605971229487401\n",
      "Epoch: 0038 loss_train: 0.8140\n",
      "0.8376281611751946\n",
      "Epoch: 0039 loss_train: 0.8887\n",
      "0.9123493344540597\n",
      "Epoch: 0040 loss_train: 0.8369\n",
      "0.8553963547822256\n",
      "Epoch: 0041 loss_train: 0.8167\n",
      "0.8521451793943237\n",
      "Epoch: 0042 loss_train: 0.8344\n",
      "0.8871275845753781\n",
      "Epoch: 0043 loss_train: 0.7909\n",
      "0.8237388623979583\n",
      "Epoch: 0044 loss_train: 0.8125\n",
      "0.8587580807345915\n",
      "Epoch: 0045 loss_train: 0.8258\n",
      "0.8505655104486954\n",
      "Epoch: 0046 loss_train: 0.8005\n",
      "0.836107717991559\n",
      "Epoch: 0047 loss_train: 0.7794\n",
      "0.8162515667116046\n",
      "Epoch: 0048 loss_train: 0.7958\n",
      "0.8393625699597804\n",
      "Epoch: 0049 loss_train: 0.8130\n",
      "0.8800331182100043\n",
      "Epoch: 0050 loss_train: 0.7688\n",
      "0.8187097787077597\n",
      "Epoch: 0051 loss_train: 0.8365\n",
      "0.9092240041058826\n",
      "Epoch: 0052 loss_train: 0.8771\n",
      "0.8943449601007563\n",
      "Epoch: 0053 loss_train: 0.7893\n",
      "0.8654099538142056\n",
      "Epoch: 0054 loss_train: 0.7997\n",
      "0.8278306761921013\n",
      "Epoch: 0055 loss_train: 0.9134\n",
      "0.9803846710751417\n",
      "Epoch: 0056 loss_train: 0.7726\n",
      "0.8497615634056244\n",
      "Epoch: 0057 loss_train: 0.8011\n",
      "0.8548245029029319\n",
      "Epoch: 0058 loss_train: 0.8070\n",
      "0.8724577962401651\n",
      "Epoch: 0059 loss_train: 0.7924\n",
      "0.8543278999433667\n",
      "Epoch: 0060 loss_train: 0.7656\n",
      "0.8418589699627258\n",
      "Epoch: 0061 loss_train: 0.7871\n",
      "0.8513317670496565\n",
      "Epoch: 0062 loss_train: 0.7598\n",
      "0.807357875611069\n",
      "Epoch: 0063 loss_train: 0.7764\n",
      "0.8632710313839501\n",
      "Epoch: 0064 loss_train: 0.7877\n",
      "0.8614360715733437\n",
      "Epoch: 0065 loss_train: 0.7554\n",
      "0.8447541866305994\n",
      "Epoch: 0066 loss_train: 0.7365\n",
      "0.8404343768252063\n",
      "Epoch: 0067 loss_train: 0.7412\n",
      "0.834286422885493\n",
      "Epoch: 0068 loss_train: 0.7388\n",
      "0.7938207549751757\n",
      "Epoch: 0069 loss_train: 0.7360\n",
      "0.7940948458122039\n",
      "Epoch: 0070 loss_train: 0.7652\n",
      "0.8462296183961737\n",
      "Epoch: 0071 loss_train: 0.7191\n",
      "0.8299150733126798\n",
      "Epoch: 0072 loss_train: 0.7496\n",
      "0.8469407890075235\n",
      "Epoch: 0073 loss_train: 0.7501\n",
      "0.8343443618464126\n",
      "Epoch: 0074 loss_train: 0.7283\n",
      "0.8345664001273152\n",
      "Epoch: 0075 loss_train: 0.7016\n",
      "0.8351559773686449\n",
      "Epoch: 0076 loss_train: 0.8195\n",
      "0.8752287497557175\n",
      "Epoch: 0077 loss_train: 0.7502\n",
      "0.8205796669541434\n",
      "Epoch: 0078 loss_train: 0.7449\n",
      "0.8005766072116942\n",
      "Epoch: 0079 loss_train: 0.7325\n",
      "0.8385783398745648\n",
      "Epoch: 0080 loss_train: 0.7213\n",
      "0.8296072667870416\n",
      "Epoch: 0081 loss_train: 0.7647\n",
      "0.884215463867121\n",
      "Epoch: 0082 loss_train: 0.8315\n",
      "0.9164982807228623\n",
      "Epoch: 0083 loss_train: 0.7208\n",
      "0.8339571088492364\n",
      "Epoch: 0084 loss_train: 0.7273\n",
      "0.840684549711191\n",
      "Epoch: 0085 loss_train: 0.7334\n",
      "0.8495349369105883\n",
      "Epoch: 0086 loss_train: 0.8333\n",
      "0.9297403272477965\n",
      "Epoch: 0087 loss_train: 0.7178\n",
      "0.841191049468691\n",
      "Epoch: 0088 loss_train: 0.7285\n",
      "0.8534678570192834\n",
      "Epoch: 0089 loss_train: 0.7438\n",
      "0.8975335258873943\n",
      "Epoch: 0090 loss_train: 0.7274\n",
      "0.8308308498290609\n",
      "Epoch: 0091 loss_train: 0.7342\n",
      "0.836403939429045\n",
      "Epoch: 0092 loss_train: 0.7123\n",
      "0.8440216474875584\n",
      "Epoch: 0093 loss_train: 0.7490\n",
      "0.8626927229583545\n",
      "Epoch: 0094 loss_train: 0.6967\n",
      "0.8234328369356041\n",
      "Epoch: 0095 loss_train: 0.7543\n",
      "0.8737959070111138\n",
      "Epoch: 0096 loss_train: 0.7354\n",
      "0.8836133582033202\n",
      "Epoch: 0097 loss_train: 0.7212\n",
      "0.8667548535180561\n",
      "Epoch: 0098 loss_train: 0.7106\n",
      "0.8265879419806397\n",
      "Epoch: 0099 loss_train: 0.7353\n",
      "0.8510029205379733\n",
      "Epoch: 0100 loss_train: 0.7064\n",
      "0.8598492787492046\n"
     ]
    }
   ],
   "source": [
    "best = float(\"inf\")\n",
    "def train(epoch):\n",
    "    criterion = nn.MSELoss()\n",
    "    model.train()\n",
    "    for adj,feats,ans in train_loader:\n",
    "        optimizer.zero_grad()\n",
    "        output = model(feats,adj)\n",
    "        loss_train = torch.sqrt(criterion(output,ans.view(-1,1)))\n",
    "        loss_train.backward()\n",
    "        optimizer.step()\n",
    "    output = model(train_x,train_adj_x)\n",
    "    print(\"Epoch: {:04d}\".format(epoch+1),\n",
    "         \"loss_train: {:.4f}\".format(mean_squared_error(output.detach().numpy(),train_y)**0.5))\n",
    "    \n",
    "    model.eval()\n",
    "    for valid_adj_x,valid_x,valid_y in valid_loader:\n",
    "        output = model(valid_x,valid_adj_x)\n",
    "        tmp = mean_squared_error(output.detach().numpy(),valid_y)**0.5\n",
    "        print(tmp)\n",
    "        global best\n",
    "        if best > tmp:\n",
    "            best = tmp\n",
    "            torch.save(model.state_dict(), \"./solubility.model\")\n",
    "            \n",
    "        \n",
    "for epoch in range(100):\n",
    "    train(epoch)"
   ]
  },
  {
   "cell_type": "code",
   "execution_count": 292,
   "metadata": {},
   "outputs": [],
   "source": [
    "model.load_state_dict(torch.load(\"./solubility.model\"))"
   ]
  },
  {
   "cell_type": "code",
   "execution_count": 293,
   "metadata": {},
   "outputs": [
    {
     "name": "stdout",
     "output_type": "stream",
     "text": [
      "0.6623396121519243\n",
      "0.8045604568487507\n"
     ]
    }
   ],
   "source": [
    "output = model(train_x,train_adj_x)\n",
    "print(mean_squared_error(output.detach().numpy(),train_y)**0.5)\n",
    "output = model(test_x,test_adj_x)\n",
    "print(mean_squared_error(output.detach().numpy(),test_y)**0.5)"
   ]
  },
  {
   "cell_type": "code",
   "execution_count": 294,
   "metadata": {
    "scrolled": true
   },
   "outputs": [
    {
     "data": {
      "image/png": "[encoded data removed]",
      "text/plain": [
       "<Figure size 432x288 with 1 Axes>"
      ]
     },
     "metadata": {},
     "output_type": "display_data"
    }
   ],
   "source": [
    "import matplotlib.pyplot as plt\n",
    "plt.figure()\n",
    "plt.scatter(train_y, model(train_x,train_adj_x).detach().numpy(), label = 'Train', c = 'blue')\n",
    "plt.title('Neural Network Predictor')\n",
    "plt.xlabel('Measured Solubility')\n",
    "plt.ylabel('Predicted Solubility')\n",
    "plt.scatter(test_y, model(test_x,test_adj_x).detach().numpy(), c = 'lightgreen', label = 'Test', alpha = 0.8)\n",
    "plt.legend(loc = 4)\n",
    "plt.show()"
   ]
  },
  {
   "cell_type": "code",
   "execution_count": 295,
   "metadata": {},
   "outputs": [
    {
     "data": {
      "text/plain": [
       "0.43869376"
      ]
     },
     "execution_count": 295,
     "metadata": {},
     "output_type": "execute_result"
    }
   ],
   "source": [
    "output = model(train_x,train_adj_x)\n",
    "mean_squared_error(output.detach().numpy(),train_y)"
   ]
  },
  {
   "cell_type": "code",
   "execution_count": 127,
   "metadata": {},
   "outputs": [
    {
     "data": {
      "text/plain": [
       "1025"
      ]
     },
     "execution_count": 127,
     "metadata": {},
     "output_type": "execute_result"
    }
   ],
   "source": [
    "len(train_x)"
   ]
  },
  {
   "cell_type": "code",
   "execution_count": 128,
   "metadata": {},
   "outputs": [
    {
     "data": {
      "text/plain": [
       "257"
      ]
     },
     "execution_count": 128,
     "metadata": {},
     "output_type": "execute_result"
    }
   ],
   "source": [
    "len(test_x)"
   ]
  },
  {
   "cell_type": "code",
   "execution_count": null,
   "metadata": {},
   "outputs": [],
   "source": []
  }
 ],
 "metadata": {
  "kernelspec": {
   "display_name": "Python 3",
   "language": "python",
   "name": "python3"
  },
  "language_info": {
   "codemirror_mode": {
    "name": "ipython",
    "version": 3
   },
   "file_extension": ".py",
   "mimetype": "text/x-python",
   "name": "python",
   "nbconvert_exporter": "python",
   "pygments_lexer": "ipython3",
   "version": "3.6.5"
  }
 },
 "nbformat": 4,
 "nbformat_minor": 2
}
